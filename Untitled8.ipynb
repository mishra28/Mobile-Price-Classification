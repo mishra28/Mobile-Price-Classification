{
 "cells": [
  {
   "cell_type": "code",
   "execution_count": 1,
   "metadata": {
    "scrolled": false
   },
   "outputs": [
    {
     "name": "stderr",
     "output_type": "stream",
     "text": [
      "C:\\Users\\hp\\Anaconda2\\lib\\site-packages\\sklearn\\utils\\validation.py:526: DataConversionWarning: A column-vector y was passed when a 1d array was expected. Please change the shape of y to (n_samples, ), for example using ravel().\n",
      "  y = column_or_1d(y, warn=True)\n"
     ]
    },
    {
     "name": "stdout",
     "output_type": "stream",
     "text": [
      "                0\n",
      "0     1385.177001\n",
      "1     1467.048804\n",
      "2      955.215910\n",
      "3     2553.375658\n",
      "4     2182.142198\n",
      "5     1795.338645\n",
      "6      563.673944\n",
      "7     1898.482797\n",
      "8     1500.916465\n",
      "9     3272.167901\n",
      "10    1824.229127\n",
      "11    1350.743718\n",
      "12    2196.751973\n",
      "13    2049.949604\n",
      "14     823.003621\n",
      "15    2400.531265\n",
      "16    3194.461155\n",
      "17    2809.030758\n",
      "18    2473.666227\n",
      "19    -238.159378\n",
      "20    2870.301427\n",
      "21    3645.145350\n",
      "22     847.081521\n",
      "23    2568.345058\n",
      "24    3024.929553\n",
      "25    1175.428249\n",
      "26     874.973900\n",
      "27    2498.482140\n",
      "28    3994.968367\n",
      "29    1991.749099\n",
      "...           ...\n",
      "5651  3251.540503\n",
      "5652  2016.862495\n",
      "5653  1402.698328\n",
      "5654  2460.847881\n",
      "5655  1532.689688\n",
      "5656  1917.986286\n",
      "5657  4324.051831\n",
      "5658  2093.108551\n",
      "5659  3232.993239\n",
      "5660  3418.460164\n",
      "5661  3120.516071\n",
      "5662  3569.266350\n",
      "5663   890.872640\n",
      "5664  2628.460143\n",
      "5665  1085.873333\n",
      "5666  3114.829888\n",
      "5667  1359.779768\n",
      "5668   128.898642\n",
      "5669  3825.626170\n",
      "5670  4245.277353\n",
      "5671   977.459612\n",
      "5672  3936.053488\n",
      "5673  1668.578755\n",
      "5674   690.332744\n",
      "5675  1036.785499\n",
      "5676  2110.998293\n",
      "5677  2535.917844\n",
      "5678  1762.072868\n",
      "5679  3557.696456\n",
      "5680  1291.299494\n",
      "\n",
      "[5681 rows x 1 columns]\n"
     ]
    }
   ],
   "source": [
    "import pandas as pd\n",
    "from scipy import interpolate\n",
    "import matplotlib.pyplot as plt\n",
    "import numpy as np\n",
    "from pandas import Series, DataFrame\n",
    "from sklearn.ensemble import GradientBoostingRegressor\n",
    "\n",
    "train = pd.read_csv(\"Downloads/Train_A102_1.csv\")\n",
    "test = pd.read_csv(\"Downloads/Test_A102.csv\")\n",
    "#train\n",
    "train['Item_Weight'].fillna(train['Item_Weight'].interpolate(method='spline', order=2), inplace=True)\n",
    "test['Item_Weight'].fillna(test['Item_Weight'].interpolate(method='spline', order=2), inplace=True)\n",
    "X= train[[ 'Item_Weight','Item_Visibility','Item_MRP','Outlet_Establishment_Year']]\n",
    "y=train[['Item_Outlet_Sales']]\n",
    "X_TEST= test[['Item_Weight','Item_Visibility','Item_MRP','Outlet_Establishment_Year']]\n",
    "\n",
    "model= GradientBoostingRegressor(n_estimators = 200)\n",
    "model.fit(X,y)\n",
    "\n",
    "predictions = model.predict(X_TEST)\n",
    "\n",
    "#Format predictions in DataFrame: prediction_df\n",
    "prediction_df = pd.DataFrame(data=predictions)\n",
    "\n",
    "print(prediction_df)\n",
    "\n",
    "# Save prediction_df to csv\n",
    "#prediction_df.to_csv('vardaanpriyan.csv')\n"
   ]
  },
  {
   "cell_type": "code",
   "execution_count": 43,
   "metadata": {},
   "outputs": [
    {
     "data": {
      "text/plain": [
       "<matplotlib.text.Text at 0xbf5d3c8>"
      ]
     },
     "execution_count": 43,
     "metadata": {},
     "output_type": "execute_result"
    }
   ],
   "source": []
  },
  {
   "cell_type": "code",
   "execution_count": null,
   "metadata": {},
   "outputs": [],
   "source": [
    "\n",
    "\n"
   ]
  }
 ],
 "metadata": {
  "kernelspec": {
   "display_name": "Python 2",
   "language": "python",
   "name": "python2"
  },
  "language_info": {
   "codemirror_mode": {
    "name": "ipython",
    "version": 2
   },
   "file_extension": ".py",
   "mimetype": "text/x-python",
   "name": "python",
   "nbconvert_exporter": "python",
   "pygments_lexer": "ipython2",
   "version": "2.7.13"
  }
 },
 "nbformat": 4,
 "nbformat_minor": 2
}
